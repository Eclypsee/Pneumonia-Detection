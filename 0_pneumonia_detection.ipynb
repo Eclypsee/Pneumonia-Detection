{
  "nbformat": 4,
  "nbformat_minor": 0,
  "metadata": {
    "colab": {
      "provenance": []
    },
    "kernelspec": {
      "name": "python3",
      "display_name": "Python 3"
    },
    "language_info": {
      "name": "python"
    },
    "accelerator": "GPU",
    "gpuClass": "standard"
  },
  "cells": [
    {
      "cell_type": "code",
      "execution_count": null,
      "metadata": {
        "id": "-p8T6fThTOTF"
      },
      "outputs": [],
      "source": [
        "#import important libraries\n",
        "import random\n",
        "\n",
        "import gdown\n",
        "import zipfile\n",
        "\n",
        "import os\n",
        "import numpy as np\n",
        "import pandas as pd\n",
        "\n",
        "import seaborn as sns\n",
        "import matplotlib.pyplot as plt\n",
        "\n",
        "from sklearn.metrics import accuracy_score, confusion_matrix\n",
        "from sklearn.model_selection import train_test_split\n",
        "\n",
        "import tensorflow.keras as keras\n",
        "from keras.models import Sequential\n",
        "from keras.layers import Activation, MaxPooling2D, Dropout, Flatten, Reshape, Dense, Conv2D, GlobalAveragePooling2D\n",
        "from keras.regularizers import l2\n",
        "from keras.wrappers.scikit_learn import KerasClassifier\n",
        "import tensorflow.keras.optimizers as optimizers\n",
        "from keras.callbacks import ModelCheckpoint\n",
        "\n",
        "from imgaug import augmenters"
      ]
    },
    {
      "cell_type": "code",
      "source": [
        "#define terms and data path\n",
        "# open(\"model.h5\", \"w\")\n",
        "# model_path = './model.h5'\n",
        "monitor = ModelCheckpoint('./model.h5', monitor='val_accuracy', verbose=0, save_best_only=True, save_weights_only=False, mode='auto', save_freq='epoch')\n",
        "\n",
        "def plot_acc(history, ax = None, xlabel = 'Epoch #'):\n",
        "    # i'm sorry for this function's code. i am so sorry.\n",
        "    history = history.history\n",
        "    history.update({'epoch':list(range(len(history['val_accuracy'])))})\n",
        "    history = pd.DataFrame.from_dict(history)\n",
        "\n",
        "    best_epoch = history.sort_values(by = 'val_accuracy', ascending = False).iloc[0]['epoch']\n",
        "\n",
        "    if not ax:\n",
        "      f, ax = plt.subplots(1,1)\n",
        "    sns.lineplot(x = 'epoch', y = 'val_accuracy', data = history, label = 'Validation', ax = ax)\n",
        "    sns.lineplot(x = 'epoch', y = 'accuracy', data = history, label = 'Training', ax = ax)\n",
        "    ax.axhline(0.5, linestyle = '--',color='red', label = 'Chance')\n",
        "    ax.axvline(x = best_epoch, linestyle = '--', color = 'green', label = 'Best Epoch')\n",
        "    ax.legend(loc = 4)\n",
        "    ax.set_ylim([0.4, 1])\n",
        "\n",
        "    ax.set_xlabel(xlabel)\n",
        "    ax.set_ylabel('Accuracy (Fraction)')\n",
        "\n",
        "    plt.show()\n",
        "\n",
        "\n",
        "def setup_field_data(data):\n",
        "    rand = random.uniform(-1, 1)\n",
        "\n",
        "    for i in range(len(data)):\n",
        "      image = data[i]\n",
        "\n",
        "      if abs(rand) < 0.5:\n",
        "        image = augmenters.Affine(rotate = rand * 40).augment_image(image)\n",
        "      elif abs(rand) < 0.8:\n",
        "        image = augmenters.Affine(shear = rand * 40).augment_image(image)\n",
        "      data[i] = image\n",
        "    return data"
      ],
      "metadata": {
        "id": "6VpNto7ATick"
      },
      "execution_count": null,
      "outputs": []
    },
    {
      "cell_type": "code",
      "source": [
        "#download data\n",
        "# the !wget only needs to happen once to download the files\n",
        "if(os.path.exists('image_data.npy')==False):\n",
        "  !wget \"https://storage.googleapis.com/inspirit-ai-data-bucket-1/Data/AI%20Scholars/Sessions%206%20-%2010%20(Projects)/Project%20-%20(Healthcare%20A)%20Pneumonia/image_data.npy\"\n",
        "if(os.path.exists('metadata.csv')==False):\n",
        "  !wget \"https://storage.googleapis.com/inspirit-ai-data-bucket-1/Data/AI%20Scholars/Sessions%206%20-%2010%20(Projects)/Project%20-%20(Healthcare%20A)%20Pneumonia/metadata.csv\"\n",
        "\n",
        "\n",
        "### pre-loading all data of interest\n",
        "image_data = np.load('image_data.npy')\n",
        "labels_path  = 'metadata.csv'\n",
        "labels_data = pd.read_csv(labels_path)\n",
        "# downloading and loading data\n",
        "\n",
        "############## define data\n",
        "### field data\n",
        "field_start_index = labels_data.groupby('split').get_group('field')['index'].to_numpy()[0]\n",
        "field_end_index = labels_data.groupby('split').get_group('field')['index'].to_numpy()[-1]+1#plus one ensures it ends correctly\n",
        "\n",
        "field_data = image_data[field_start_index:field_end_index]\n",
        "field_data = setup_field_data(field_data)#randomly rotates the images and stretches them\n",
        "\n",
        "field_labels = labels_data['class'].to_numpy()[field_start_index:field_end_index]\n",
        "### train data\n",
        "train_start_index = labels_data.groupby('split').get_group('train')['index'].to_numpy()[0]\n",
        "train_end_index = labels_data.groupby('split').get_group('train')['index'].to_numpy()[-1]+1#plus one ensures it ends correctly\n",
        "\n",
        "train_data = image_data[train_start_index:train_end_index]\n",
        "\n",
        "train_labels = labels_data['class'].to_numpy()[train_start_index:train_end_index]"
      ],
      "metadata": {
        "id": "SLkm_HcpWYxV",
        "colab": {
          "base_uri": "https://localhost:8080/"
        },
        "outputId": "ab93da1b-d173-4676-ba35-b7eb9fbf27fb"
      },
      "execution_count": null,
      "outputs": [
        {
          "output_type": "stream",
          "name": "stdout",
          "text": [
            "--2022-07-28 19:01:25--  https://storage.googleapis.com/inspirit-ai-data-bucket-1/Data/AI%20Scholars/Sessions%206%20-%2010%20(Projects)/Project%20-%20(Healthcare%20A)%20Pneumonia/image_data.npy\n",
            "Resolving storage.googleapis.com (storage.googleapis.com)... 74.125.135.128, 74.125.142.128, 74.125.195.128, ...\n",
            "Connecting to storage.googleapis.com (storage.googleapis.com)|74.125.135.128|:443... connected.\n",
            "HTTP request sent, awaiting response... 200 OK\n",
            "Length: 137625728 (131M) [application/octet-stream]\n",
            "Saving to: ‘image_data.npy’\n",
            "\n",
            "image_data.npy      100%[===================>] 131.25M   132MB/s    in 1.0s    \n",
            "\n",
            "2022-07-28 19:01:26 (132 MB/s) - ‘image_data.npy’ saved [137625728/137625728]\n",
            "\n",
            "--2022-07-28 19:01:27--  https://storage.googleapis.com/inspirit-ai-data-bucket-1/Data/AI%20Scholars/Sessions%206%20-%2010%20(Projects)/Project%20-%20(Healthcare%20A)%20Pneumonia/metadata.csv\n",
            "Resolving storage.googleapis.com (storage.googleapis.com)... 74.125.142.128, 74.125.195.128, 142.250.99.128, ...\n",
            "Connecting to storage.googleapis.com (storage.googleapis.com)|74.125.142.128|:443... connected.\n",
            "HTTP request sent, awaiting response... 200 OK\n",
            "Length: 40508 (40K) [text/csv]\n",
            "Saving to: ‘metadata.csv’\n",
            "\n",
            "metadata.csv        100%[===================>]  39.56K  --.-KB/s    in 0s      \n",
            "\n",
            "2022-07-28 19:01:27 (81.2 MB/s) - ‘metadata.csv’ saved [40508/40508]\n",
            "\n"
          ]
        }
      ]
    },
    {
      "cell_type": "code",
      "source": [
        "#setup our data\n",
        "rotate1 = augmenters.Affine(rotate = 10).augment_images(train_data)\n",
        "scale1 = augmenters.Affine(scale = 1.3).augment_images(train_data)\n",
        "shear1 = augmenters.Affine(shear = 20).augment_images(train_data)\n",
        "updown1 = augmenters.Flipud(p = 1.0).augment_images(train_data)\n",
        "leftright1 = augmenters.Fliplr(p = 1.0).augment_images(train_data)\n",
        "\n",
        "mod_data = np.concatenate([train_data, rotate1, scale1, shear1, updown1, leftright1, field_data], axis = 0)\n",
        "mod_labels = np.concatenate([train_labels, train_labels, train_labels, train_labels, train_labels, train_labels, field_labels], axis = 0)\n",
        "X_train, X_test, y_train, y_test = train_test_split(mod_data, mod_labels, test_size=0.2, random_state=101)"
      ],
      "metadata": {
        "id": "KWZ0DE9ITn1M"
      },
      "execution_count": null,
      "outputs": []
    },
    {
      "cell_type": "code",
      "source": [
        "#our model is sequential\n",
        "cnn = Sequential()\n",
        "\n",
        "cnn.add(Conv2D(filters=32,kernel_size=(3,3),activation='relu'))#32 kernels each 3x3 with relu activator cause pixel values cannot be negative\n",
        "cnn.add(Dropout(0.5))\n",
        "cnn.add(Conv2D(filters=16,kernel_size=(3,3),activation='relu'))#16 kernels each 3x3 with relu activator cause pixel values cannot be negative\n",
        "cnn.add(Dropout(0.5))\n",
        "\n",
        "cnn.add(MaxPooling2D(pool_size=(2,2)))#pool size of 2x2 means it looks at a 2x2 area of pixels and picks the most prominent one\n",
        "\n",
        "#turns array to 1d etc [1,2,3,1,3,1,4,5,6]\n",
        "cnn.add(Flatten(input_shape=(64, 64, 3)))\n",
        "cnn.add(Dropout(0.5))#turns off 50% of neurons above\n",
        "\n",
        "cnn.add(Dense(100, activation='relu'))\n",
        "cnn.add(Dropout(0.5))\n",
        "cnn.add(Dense(100, activation='relu'))\n",
        "cnn.add(Dropout(0.5))\n",
        "\n",
        "cnn.add(Dense(1, activation='sigmoid'))#sigmoid is binary outputs softmax is more categories\n",
        "\n",
        "#####################################################################################################################\n",
        "#opt = keras.optimizers.RMSprop(learning_rate=1e-5, decay=1e-6)\n",
        "cnn.compile(loss='binary_crossentropy', optimizer='adam', metrics=['accuracy'])\n",
        "history = cnn.fit(X_train, y_train,\n",
        "                          epochs = 10,\n",
        "                          batch_size = 5,\n",
        "                          validation_data = (X_test, y_test),\n",
        "                          shuffle = True,\n",
        "                          callbacks = [monitor])\n",
        "#####################################################################################################################\n",
        "plot_acc(history)"
      ],
      "metadata": {
        "id": "2k4nwmutTskt",
        "colab": {
          "base_uri": "https://localhost:8080/",
          "height": 660
        },
        "outputId": "65956226-e640-4cbe-ed01-fc6a9977d4ef"
      },
      "execution_count": null,
      "outputs": [
        {
          "output_type": "stream",
          "name": "stdout",
          "text": [
            "Epoch 1/10\n",
            "1984/1984 [==============================] - 23s 4ms/step - loss: 0.6400 - accuracy: 0.6496 - val_loss: 0.5443 - val_accuracy: 0.7581\n",
            "Epoch 2/10\n",
            "1984/1984 [==============================] - 8s 4ms/step - loss: 0.4372 - accuracy: 0.8055 - val_loss: 0.4313 - val_accuracy: 0.8621\n",
            "Epoch 3/10\n",
            "1984/1984 [==============================] - 8s 4ms/step - loss: 0.3118 - accuracy: 0.8745 - val_loss: 0.3330 - val_accuracy: 0.8984\n",
            "Epoch 4/10\n",
            "1984/1984 [==============================] - 14s 7ms/step - loss: 0.2664 - accuracy: 0.8998 - val_loss: 0.2497 - val_accuracy: 0.9226\n",
            "Epoch 5/10\n",
            "1984/1984 [==============================] - 9s 4ms/step - loss: 0.2301 - accuracy: 0.9116 - val_loss: 0.1860 - val_accuracy: 0.9407\n",
            "Epoch 6/10\n",
            "1984/1984 [==============================] - 10s 5ms/step - loss: 0.2145 - accuracy: 0.9191 - val_loss: 0.2340 - val_accuracy: 0.9343\n",
            "Epoch 7/10\n",
            "1984/1984 [==============================] - 8s 4ms/step - loss: 0.2014 - accuracy: 0.9252 - val_loss: 0.2514 - val_accuracy: 0.9323\n",
            "Epoch 8/10\n",
            "1984/1984 [==============================] - 8s 4ms/step - loss: 0.1876 - accuracy: 0.9274 - val_loss: 0.2177 - val_accuracy: 0.9407\n",
            "Epoch 9/10\n",
            "1984/1984 [==============================] - 8s 4ms/step - loss: 0.1814 - accuracy: 0.9311 - val_loss: 0.1879 - val_accuracy: 0.9379\n",
            "Epoch 10/10\n",
            "1984/1984 [==============================] - 11s 5ms/step - loss: 0.1751 - accuracy: 0.9334 - val_loss: 0.1793 - val_accuracy: 0.9435\n"
          ]
        },
        {
          "output_type": "display_data",
          "data": {
            "text/plain": [
              "<Figure size 432x288 with 1 Axes>"
            ],
            "image/png": "[encoded data removed]"
          },
          "metadata": {
            "needs_background": "light"
          }
        }
      ]
    },
    {
      "cell_type": "code",
      "source": [
        "plt.imshow(X_test[33])\n",
        "print(\"percent the image has pneumonia:\", cnn.predict(X_test[33:34])[0][0]*100)\n",
        "# predicts image 33 through the whole array of image 33 stopping right before image 34\n",
        "# #basically selects the whole image at index 33 im dumb"
      ],
      "metadata": {
        "id": "4AkX0YnPtM83",
        "colab": {
          "base_uri": "https://localhost:8080/",
          "height": 286
        },
        "outputId": "6ddbc1c1-1317-4eb4-8033-792c68b10955"
      },
      "execution_count": null,
      "outputs": [
        {
          "output_type": "stream",
          "name": "stdout",
          "text": [
            "percent the image has pneumonia: 8.128676563501358\n"
          ]
        },
        {
          "output_type": "display_data",
          "data": {
            "text/plain": [
              "<Figure size 432x288 with 1 Axes>"
            ],
            "image/png": "[encoded data removed]"
          },
          "metadata": {
            "needs_background": "light"
          }
        }
      ]
    },
    {
      "cell_type": "code",
      "source": [
        "#visualisze data with a confucius matrix\n",
        "unused_start_index = labels_data.groupby('split').get_group('train')['index'].to_numpy()[0]\n",
        "unused_end_index = labels_data.groupby('split').get_group('train')['index'].to_numpy()[-1]+1#plus one ensures it ends correctly\n",
        "\n",
        "unused_data = image_data[unused_start_index:unused_end_index]\n",
        "unused_labels = labels_data['class'].to_numpy()[unused_start_index:unused_end_index]\n",
        "\n",
        "predictions = cnn.predict(unused_data)\n",
        "predictions = predictions > .5\n",
        "\n",
        "confusion = confusion_matrix(unused_labels, predictions)\n",
        "sns.heatmap(confusion, annot = True, fmt = 'd', cbar_kws={'label':'count'});\n",
        "\n",
        "plt.ylabel('Actual');\n",
        "plt.xlabel('Predicted');\n",
        "\n",
        "tl = confusion[0][0]#top left\n",
        "tr = confusion[0][1]#top right\n",
        "br = confusion[1][1]#bottom right\n",
        "bl = confusion[1][0]#bottom left\n",
        "average = (tl+br)/(tl+tr+br+bl)\n",
        "print(\"your cnn's correctness:\", average)"
      ],
      "metadata": {
        "id": "FxmISVOXTxuC",
        "colab": {
          "base_uri": "https://localhost:8080/",
          "height": 297
        },
        "outputId": "6f588621-0acd-4bf6-fb68-b7742e714863"
      },
      "execution_count": null,
      "outputs": [
        {
          "output_type": "stream",
          "name": "stdout",
          "text": [
            "your cnn's correctness: 0.9705\n"
          ]
        },
        {
          "output_type": "display_data",
          "data": {
            "text/plain": [
              "<Figure size 432x288 with 2 Axes>"
            ],
            "image/png": "[encoded data removed]"
          },
          "metadata": {
            "needs_background": "light"
          }
        }
      ]
    },
    {
      "cell_type": "code",
      "source": [
        "#######import and predict any x ray image you want\n",
        "from PIL import Image\n",
        "import cv2\n",
        "#what is centercropping?\n",
        "img_filepath = input(\"enter image filename : \")\n",
        "\n",
        "#this is for pngs only\n",
        "# png = Image.open(img_filepath).convert('RGBA')\n",
        "# background = Image.new('RGBA', png.size, (255,255,255))\n",
        "# alpha_composite = Image.alpha_composite(background, png)\n",
        "\n",
        "# mod_image = alpha_composite.resize((64, 64))\n",
        "# mod_image = np.asarray(mod_image)[:,:,:3]\n",
        "# plt.imshow(mod_image)\n",
        "\n",
        "#better png\n",
        "mod_image = Image.open(img_filepath).resize((64, 64))\n",
        "mod_image = mod_image.convert('RGB')\n",
        "mod_image = np.asarray(mod_image)\n",
        "plt.imshow(mod_image)\n",
        "\n",
        "mod_image = np.array(mod_image).reshape(1, 64, 64, 3)\n",
        "pred = cnn.predict(mod_image)\n",
        "print(\"has pneumonia:\",pred>0.5)"
      ],
      "metadata": {
        "id": "hl1Hr5TVzT94",
        "colab": {
          "base_uri": "https://localhost:8080/",
          "height": 304
        },
        "outputId": "1441d084-cdd1-4057-dce8-445ea1bd8f26"
      },
      "execution_count": null,
      "outputs": [
        {
          "output_type": "stream",
          "name": "stdout",
          "text": [
            "enter image filename : download.png\n",
            "has pneumonia: [[ True]]\n"
          ]
        },
        {
          "output_type": "display_data",
          "data": {
            "text/plain": [
              "<Figure size 432x288 with 1 Axes>"
            ],
            "image/png": "[encoded data removed]"
          },
          "metadata": {
            "needs_background": "light"
          }
        }
      ]
    }
  ]
}